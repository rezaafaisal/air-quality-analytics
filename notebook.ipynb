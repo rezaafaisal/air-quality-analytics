{
 "cells": [
  {
   "attachments": {},
   "cell_type": "markdown",
   "metadata": {},
   "source": [
    "# Proyek Analisis Data: Air Quality\n",
    "- Nama: Reza Faisal\n",
    "- Email: rezha.faizal567@gmail.com\n",
    "- Id Dicoding: rezaafaisal"
   ]
  },
  {
   "attachments": {},
   "cell_type": "markdown",
   "metadata": {},
   "source": [
    "## Menentukan Pertanyaan Bisnis"
   ]
  },
  {
   "attachments": {},
   "cell_type": "markdown",
   "metadata": {},
   "source": [
    "- pertanyaan 1\n",
    "- pertanyaan 2"
   ]
  },
  {
   "attachments": {},
   "cell_type": "markdown",
   "metadata": {},
   "source": [
    "## Menyiapkan semua library yang dibutuhkan"
   ]
  },
  {
   "cell_type": "code",
   "execution_count": 2,
   "metadata": {},
   "outputs": [],
   "source": [
    "import pandas as pd\n",
    "import numpy as np\n",
    "import matplotlib.pyplot as plt\n",
    "import seaborn as sns"
   ]
  },
  {
   "attachments": {},
   "cell_type": "markdown",
   "metadata": {},
   "source": [
    "## Data Wrangling"
   ]
  },
  {
   "attachments": {},
   "cell_type": "markdown",
   "metadata": {},
   "source": [
    "### Gathering Data\n",
    "Pada tahap ini data kualitas udara dari setiap stasiun akan di load dan dijadikan dataframe"
   ]
  },
  {
   "cell_type": "code",
   "execution_count": null,
   "metadata": {},
   "outputs": [],
   "source": [
    "# list files\n",
    "sources = [\n",
    "    'PRSA_Data_Aotizhongxin_20130301-20170228.csv',\n",
    "    'PRSA_Data_Changping_20130301-20170228.csv',\n",
    "    'PRSA_Data_Dingling_20130301-20170228.csv',\n",
    "    'PRSA_Data_Dongsi_20130301-20170228.csv',\n",
    "    'PRSA_Data_Guanyuan_20130301-20170228.csv',\n",
    "    'PRSA_Data_Gucheng_20130301-20170228.csv',\n",
    "    'PRSA_Data_Huairou_20130301-20170228.csv',\n",
    "    'PRSA_Data_Nongzhanguan_20130301-20170228.csv',\n",
    "    'PRSA_Data_Shunyi_20130301-20170228.csv',\n",
    "    'PRSA_Data_Tiantan_20130301-20170228.csv',\n",
    "    'PRSA_Data_Wanliu_20130301-20170228.csv',\n",
    "    'PRSA_Data_Wanshouxigong_20130301-20170228.csv'\n",
    "]\n",
    "\n",
    "# list stations\n",
    "stations = [source.split('_')[2].lower() for source in sources]"
   ]
  },
  {
   "cell_type": "code",
   "execution_count": 44,
   "metadata": {},
   "outputs": [],
   "source": [
    "# make dataframe variables\n",
    "dfs = {}\n",
    "for i, source in enumerate(sources):\n",
    "    dfs[stations[i]] = pd.read_csv('data/'+source)\n",
    "    \n",
    "aotizhongxin_df = dfs['aotizhongxin']\n",
    "changping_df = dfs['changping']\n",
    "dingling_df = dfs['dingling']\n",
    "dongsi_df = dfs['dongsi']\n",
    "guanyuan_df = dfs['guanyuan']\n",
    "gucheng_df = dfs['gucheng']\n",
    "huairou_df = dfs['huairou'] \n",
    "nongzhanguan_df = dfs['nongzhanguan']\n",
    "shunyi_df = dfs['shunyi']\n",
    "tiantan_df = dfs['tiantan']\n",
    "wanliu_df = dfs['wanliu']\n",
    "wanshouxigong_df = dfs['wanshouxigong']"
   ]
  },
  {
   "attachments": {},
   "cell_type": "markdown",
   "metadata": {},
   "source": [
    "### Assessing Data"
   ]
  },
  {
   "cell_type": "markdown",
   "metadata": {},
   "source": [
    "#### Menilai data stasiun Aotizhonxin"
   ]
  },
  {
   "cell_type": "code",
   "execution_count": 45,
   "metadata": {},
   "outputs": [
    {
     "data": {
      "text/plain": [
       "(35064, 18)"
      ]
     },
     "execution_count": 45,
     "metadata": {},
     "output_type": "execute_result"
    }
   ],
   "source": [
    "aotizhongxin_df.shape"
   ]
  },
  {
   "cell_type": "code",
   "execution_count": 46,
   "metadata": {},
   "outputs": [
    {
     "name": "stdout",
     "output_type": "stream",
     "text": [
      "<class 'pandas.core.frame.DataFrame'>\n",
      "RangeIndex: 35064 entries, 0 to 35063\n",
      "Data columns (total 18 columns):\n",
      " #   Column   Non-Null Count  Dtype  \n",
      "---  ------   --------------  -----  \n",
      " 0   No       35064 non-null  int64  \n",
      " 1   year     35064 non-null  int64  \n",
      " 2   month    35064 non-null  int64  \n",
      " 3   day      35064 non-null  int64  \n",
      " 4   hour     35064 non-null  int64  \n",
      " 5   PM2.5    34139 non-null  float64\n",
      " 6   PM10     34346 non-null  float64\n",
      " 7   SO2      34129 non-null  float64\n",
      " 8   NO2      34041 non-null  float64\n",
      " 9   CO       33288 non-null  float64\n",
      " 10  O3       33345 non-null  float64\n",
      " 11  TEMP     35044 non-null  float64\n",
      " 12  PRES     35044 non-null  float64\n",
      " 13  DEWP     35044 non-null  float64\n",
      " 14  RAIN     35044 non-null  float64\n",
      " 15  wd       34983 non-null  object \n",
      " 16  WSPM     35050 non-null  float64\n",
      " 17  station  35064 non-null  object \n",
      "dtypes: float64(11), int64(5), object(2)\n",
      "memory usage: 4.8+ MB\n"
     ]
    }
   ],
   "source": [
    "# cek tipe data tiap kolom\n",
    "aotizhongxin_df.info()"
   ]
  },
  {
   "cell_type": "code",
   "execution_count": 47,
   "metadata": {},
   "outputs": [
    {
     "data": {
      "text/plain": [
       "No            0\n",
       "year          0\n",
       "month         0\n",
       "day           0\n",
       "hour          0\n",
       "PM2.5       925\n",
       "PM10        718\n",
       "SO2         935\n",
       "NO2        1023\n",
       "CO         1776\n",
       "O3         1719\n",
       "TEMP         20\n",
       "PRES         20\n",
       "DEWP         20\n",
       "RAIN         20\n",
       "wd           81\n",
       "WSPM         14\n",
       "station       0\n",
       "dtype: int64"
      ]
     },
     "execution_count": 47,
     "metadata": {},
     "output_type": "execute_result"
    }
   ],
   "source": [
    "aotizhongxin_df.isna().sum()"
   ]
  },
  {
   "cell_type": "code",
   "execution_count": 48,
   "metadata": {},
   "outputs": [
    {
     "name": "stdout",
     "output_type": "stream",
     "text": [
      "Jumlah duplikasi : 0\n"
     ]
    }
   ],
   "source": [
    "# cek duplikasi\n",
    "print('Jumlah duplikasi :', aotizhongxin_df.duplicated().sum())"
   ]
  },
  {
   "cell_type": "code",
   "execution_count": 49,
   "metadata": {},
   "outputs": [
    {
     "data": {
      "text/html": [
       "<div>\n",
       "<style scoped>\n",
       "    .dataframe tbody tr th:only-of-type {\n",
       "        vertical-align: middle;\n",
       "    }\n",
       "\n",
       "    .dataframe tbody tr th {\n",
       "        vertical-align: top;\n",
       "    }\n",
       "\n",
       "    .dataframe thead th {\n",
       "        text-align: right;\n",
       "    }\n",
       "</style>\n",
       "<table border=\"1\" class=\"dataframe\">\n",
       "  <thead>\n",
       "    <tr style=\"text-align: right;\">\n",
       "      <th></th>\n",
       "      <th>No</th>\n",
       "      <th>year</th>\n",
       "      <th>month</th>\n",
       "      <th>day</th>\n",
       "      <th>hour</th>\n",
       "      <th>PM2.5</th>\n",
       "      <th>PM10</th>\n",
       "      <th>SO2</th>\n",
       "      <th>NO2</th>\n",
       "      <th>CO</th>\n",
       "      <th>O3</th>\n",
       "      <th>TEMP</th>\n",
       "      <th>PRES</th>\n",
       "      <th>DEWP</th>\n",
       "      <th>RAIN</th>\n",
       "      <th>WSPM</th>\n",
       "    </tr>\n",
       "  </thead>\n",
       "  <tbody>\n",
       "    <tr>\n",
       "      <th>count</th>\n",
       "      <td>35064.000000</td>\n",
       "      <td>35064.000000</td>\n",
       "      <td>35064.000000</td>\n",
       "      <td>35064.000000</td>\n",
       "      <td>35064.000000</td>\n",
       "      <td>34139.000000</td>\n",
       "      <td>34346.000000</td>\n",
       "      <td>34129.000000</td>\n",
       "      <td>34041.000000</td>\n",
       "      <td>33288.000000</td>\n",
       "      <td>33345.000000</td>\n",
       "      <td>35044.000000</td>\n",
       "      <td>35044.000000</td>\n",
       "      <td>35044.000000</td>\n",
       "      <td>35044.000000</td>\n",
       "      <td>35050.000000</td>\n",
       "    </tr>\n",
       "    <tr>\n",
       "      <th>mean</th>\n",
       "      <td>17532.500000</td>\n",
       "      <td>2014.662560</td>\n",
       "      <td>6.522930</td>\n",
       "      <td>15.729637</td>\n",
       "      <td>11.500000</td>\n",
       "      <td>82.773611</td>\n",
       "      <td>110.060391</td>\n",
       "      <td>17.375901</td>\n",
       "      <td>59.305833</td>\n",
       "      <td>1262.945145</td>\n",
       "      <td>56.353358</td>\n",
       "      <td>13.584607</td>\n",
       "      <td>1011.846920</td>\n",
       "      <td>3.123062</td>\n",
       "      <td>0.067421</td>\n",
       "      <td>1.708496</td>\n",
       "    </tr>\n",
       "    <tr>\n",
       "      <th>std</th>\n",
       "      <td>10122.249256</td>\n",
       "      <td>1.177213</td>\n",
       "      <td>3.448752</td>\n",
       "      <td>8.800218</td>\n",
       "      <td>6.922285</td>\n",
       "      <td>82.135694</td>\n",
       "      <td>95.223005</td>\n",
       "      <td>22.823017</td>\n",
       "      <td>37.116200</td>\n",
       "      <td>1221.436236</td>\n",
       "      <td>57.916327</td>\n",
       "      <td>11.399097</td>\n",
       "      <td>10.404047</td>\n",
       "      <td>13.688896</td>\n",
       "      <td>0.910056</td>\n",
       "      <td>1.204071</td>\n",
       "    </tr>\n",
       "    <tr>\n",
       "      <th>min</th>\n",
       "      <td>1.000000</td>\n",
       "      <td>2013.000000</td>\n",
       "      <td>1.000000</td>\n",
       "      <td>1.000000</td>\n",
       "      <td>0.000000</td>\n",
       "      <td>3.000000</td>\n",
       "      <td>2.000000</td>\n",
       "      <td>0.285600</td>\n",
       "      <td>2.000000</td>\n",
       "      <td>100.000000</td>\n",
       "      <td>0.214200</td>\n",
       "      <td>-16.800000</td>\n",
       "      <td>985.900000</td>\n",
       "      <td>-35.300000</td>\n",
       "      <td>0.000000</td>\n",
       "      <td>0.000000</td>\n",
       "    </tr>\n",
       "    <tr>\n",
       "      <th>25%</th>\n",
       "      <td>8766.750000</td>\n",
       "      <td>2014.000000</td>\n",
       "      <td>4.000000</td>\n",
       "      <td>8.000000</td>\n",
       "      <td>5.750000</td>\n",
       "      <td>22.000000</td>\n",
       "      <td>38.000000</td>\n",
       "      <td>3.000000</td>\n",
       "      <td>30.000000</td>\n",
       "      <td>500.000000</td>\n",
       "      <td>8.000000</td>\n",
       "      <td>3.100000</td>\n",
       "      <td>1003.300000</td>\n",
       "      <td>-8.100000</td>\n",
       "      <td>0.000000</td>\n",
       "      <td>0.900000</td>\n",
       "    </tr>\n",
       "    <tr>\n",
       "      <th>50%</th>\n",
       "      <td>17532.500000</td>\n",
       "      <td>2015.000000</td>\n",
       "      <td>7.000000</td>\n",
       "      <td>16.000000</td>\n",
       "      <td>11.500000</td>\n",
       "      <td>58.000000</td>\n",
       "      <td>87.000000</td>\n",
       "      <td>9.000000</td>\n",
       "      <td>53.000000</td>\n",
       "      <td>900.000000</td>\n",
       "      <td>42.000000</td>\n",
       "      <td>14.500000</td>\n",
       "      <td>1011.400000</td>\n",
       "      <td>3.800000</td>\n",
       "      <td>0.000000</td>\n",
       "      <td>1.400000</td>\n",
       "    </tr>\n",
       "    <tr>\n",
       "      <th>75%</th>\n",
       "      <td>26298.250000</td>\n",
       "      <td>2016.000000</td>\n",
       "      <td>10.000000</td>\n",
       "      <td>23.000000</td>\n",
       "      <td>17.250000</td>\n",
       "      <td>114.000000</td>\n",
       "      <td>155.000000</td>\n",
       "      <td>21.000000</td>\n",
       "      <td>82.000000</td>\n",
       "      <td>1500.000000</td>\n",
       "      <td>82.000000</td>\n",
       "      <td>23.300000</td>\n",
       "      <td>1020.100000</td>\n",
       "      <td>15.600000</td>\n",
       "      <td>0.000000</td>\n",
       "      <td>2.200000</td>\n",
       "    </tr>\n",
       "    <tr>\n",
       "      <th>max</th>\n",
       "      <td>35064.000000</td>\n",
       "      <td>2017.000000</td>\n",
       "      <td>12.000000</td>\n",
       "      <td>31.000000</td>\n",
       "      <td>23.000000</td>\n",
       "      <td>898.000000</td>\n",
       "      <td>984.000000</td>\n",
       "      <td>341.000000</td>\n",
       "      <td>290.000000</td>\n",
       "      <td>10000.000000</td>\n",
       "      <td>423.000000</td>\n",
       "      <td>40.500000</td>\n",
       "      <td>1042.000000</td>\n",
       "      <td>28.500000</td>\n",
       "      <td>72.500000</td>\n",
       "      <td>11.200000</td>\n",
       "    </tr>\n",
       "  </tbody>\n",
       "</table>\n",
       "</div>"
      ],
      "text/plain": [
       "                 No          year         month           day          hour  \\\n",
       "count  35064.000000  35064.000000  35064.000000  35064.000000  35064.000000   \n",
       "mean   17532.500000   2014.662560      6.522930     15.729637     11.500000   \n",
       "std    10122.249256      1.177213      3.448752      8.800218      6.922285   \n",
       "min        1.000000   2013.000000      1.000000      1.000000      0.000000   \n",
       "25%     8766.750000   2014.000000      4.000000      8.000000      5.750000   \n",
       "50%    17532.500000   2015.000000      7.000000     16.000000     11.500000   \n",
       "75%    26298.250000   2016.000000     10.000000     23.000000     17.250000   \n",
       "max    35064.000000   2017.000000     12.000000     31.000000     23.000000   \n",
       "\n",
       "              PM2.5          PM10           SO2           NO2            CO  \\\n",
       "count  34139.000000  34346.000000  34129.000000  34041.000000  33288.000000   \n",
       "mean      82.773611    110.060391     17.375901     59.305833   1262.945145   \n",
       "std       82.135694     95.223005     22.823017     37.116200   1221.436236   \n",
       "min        3.000000      2.000000      0.285600      2.000000    100.000000   \n",
       "25%       22.000000     38.000000      3.000000     30.000000    500.000000   \n",
       "50%       58.000000     87.000000      9.000000     53.000000    900.000000   \n",
       "75%      114.000000    155.000000     21.000000     82.000000   1500.000000   \n",
       "max      898.000000    984.000000    341.000000    290.000000  10000.000000   \n",
       "\n",
       "                 O3          TEMP          PRES          DEWP          RAIN  \\\n",
       "count  33345.000000  35044.000000  35044.000000  35044.000000  35044.000000   \n",
       "mean      56.353358     13.584607   1011.846920      3.123062      0.067421   \n",
       "std       57.916327     11.399097     10.404047     13.688896      0.910056   \n",
       "min        0.214200    -16.800000    985.900000    -35.300000      0.000000   \n",
       "25%        8.000000      3.100000   1003.300000     -8.100000      0.000000   \n",
       "50%       42.000000     14.500000   1011.400000      3.800000      0.000000   \n",
       "75%       82.000000     23.300000   1020.100000     15.600000      0.000000   \n",
       "max      423.000000     40.500000   1042.000000     28.500000     72.500000   \n",
       "\n",
       "               WSPM  \n",
       "count  35050.000000  \n",
       "mean       1.708496  \n",
       "std        1.204071  \n",
       "min        0.000000  \n",
       "25%        0.900000  \n",
       "50%        1.400000  \n",
       "75%        2.200000  \n",
       "max       11.200000  "
      ]
     },
     "execution_count": 49,
     "metadata": {},
     "output_type": "execute_result"
    }
   ],
   "source": [
    "aotizhongxin_df.describe()"
   ]
  },
  {
   "cell_type": "markdown",
   "metadata": {},
   "source": [
    "#### Menilai data Changping"
   ]
  },
  {
   "cell_type": "code",
   "execution_count": 67,
   "metadata": {},
   "outputs": [
    {
     "name": "stdout",
     "output_type": "stream",
     "text": [
      "<class 'pandas.core.frame.DataFrame'>\n",
      "RangeIndex: 35064 entries, 0 to 35063\n",
      "Data columns (total 18 columns):\n",
      " #   Column   Non-Null Count  Dtype  \n",
      "---  ------   --------------  -----  \n",
      " 0   No       35064 non-null  int64  \n",
      " 1   year     35064 non-null  int64  \n",
      " 2   month    35064 non-null  int64  \n",
      " 3   day      35064 non-null  int64  \n",
      " 4   hour     35064 non-null  int64  \n",
      " 5   PM2.5    34290 non-null  float64\n",
      " 6   PM10     34482 non-null  float64\n",
      " 7   SO2      34436 non-null  float64\n",
      " 8   NO2      34397 non-null  float64\n",
      " 9   CO       33543 non-null  float64\n",
      " 10  O3       34460 non-null  float64\n",
      " 11  TEMP     35011 non-null  float64\n",
      " 12  PRES     35014 non-null  float64\n",
      " 13  DEWP     35011 non-null  float64\n",
      " 14  RAIN     35013 non-null  float64\n",
      " 15  wd       34924 non-null  object \n",
      " 16  WSPM     35021 non-null  float64\n",
      " 17  station  35064 non-null  object \n",
      "dtypes: float64(11), int64(5), object(2)\n",
      "memory usage: 4.8+ MB\n"
     ]
    }
   ],
   "source": [
    "changping_df.info()"
   ]
  },
  {
   "cell_type": "code",
   "execution_count": 68,
   "metadata": {},
   "outputs": [
    {
     "data": {
      "text/plain": [
       "No            0\n",
       "year          0\n",
       "month         0\n",
       "day           0\n",
       "hour          0\n",
       "PM2.5       774\n",
       "PM10        582\n",
       "SO2         628\n",
       "NO2         667\n",
       "CO         1521\n",
       "O3          604\n",
       "TEMP         53\n",
       "PRES         50\n",
       "DEWP         53\n",
       "RAIN         51\n",
       "wd          140\n",
       "WSPM         43\n",
       "station       0\n",
       "dtype: int64"
      ]
     },
     "execution_count": 68,
     "metadata": {},
     "output_type": "execute_result"
    }
   ],
   "source": [
    "# cek missing value\n",
    "changping_df.isna().sum()"
   ]
  },
  {
   "cell_type": "code",
   "execution_count": 69,
   "metadata": {},
   "outputs": [
    {
     "name": "stdout",
     "output_type": "stream",
     "text": [
      "Duplikat : 0\n"
     ]
    }
   ],
   "source": [
    "# hitung duplikat\n",
    "print('Duplikat :', changping_df.duplicated().sum())"
   ]
  },
  {
   "cell_type": "code",
   "execution_count": 70,
   "metadata": {},
   "outputs": [
    {
     "data": {
      "text/html": [
       "<div>\n",
       "<style scoped>\n",
       "    .dataframe tbody tr th:only-of-type {\n",
       "        vertical-align: middle;\n",
       "    }\n",
       "\n",
       "    .dataframe tbody tr th {\n",
       "        vertical-align: top;\n",
       "    }\n",
       "\n",
       "    .dataframe thead th {\n",
       "        text-align: right;\n",
       "    }\n",
       "</style>\n",
       "<table border=\"1\" class=\"dataframe\">\n",
       "  <thead>\n",
       "    <tr style=\"text-align: right;\">\n",
       "      <th></th>\n",
       "      <th>No</th>\n",
       "      <th>year</th>\n",
       "      <th>month</th>\n",
       "      <th>day</th>\n",
       "      <th>hour</th>\n",
       "      <th>PM2.5</th>\n",
       "      <th>PM10</th>\n",
       "      <th>SO2</th>\n",
       "      <th>NO2</th>\n",
       "      <th>CO</th>\n",
       "      <th>O3</th>\n",
       "      <th>TEMP</th>\n",
       "      <th>PRES</th>\n",
       "      <th>DEWP</th>\n",
       "      <th>RAIN</th>\n",
       "      <th>WSPM</th>\n",
       "    </tr>\n",
       "  </thead>\n",
       "  <tbody>\n",
       "    <tr>\n",
       "      <th>count</th>\n",
       "      <td>35064.000000</td>\n",
       "      <td>35064.000000</td>\n",
       "      <td>35064.000000</td>\n",
       "      <td>35064.000000</td>\n",
       "      <td>35064.000000</td>\n",
       "      <td>34290.000000</td>\n",
       "      <td>34482.000000</td>\n",
       "      <td>34436.000000</td>\n",
       "      <td>34397.000000</td>\n",
       "      <td>33543.000000</td>\n",
       "      <td>34460.000000</td>\n",
       "      <td>35011.000000</td>\n",
       "      <td>35014.000000</td>\n",
       "      <td>35011.000000</td>\n",
       "      <td>35013.000000</td>\n",
       "      <td>35021.000000</td>\n",
       "    </tr>\n",
       "    <tr>\n",
       "      <th>mean</th>\n",
       "      <td>17532.500000</td>\n",
       "      <td>2014.662560</td>\n",
       "      <td>6.522930</td>\n",
       "      <td>15.729637</td>\n",
       "      <td>11.500000</td>\n",
       "      <td>71.099743</td>\n",
       "      <td>94.657871</td>\n",
       "      <td>14.958906</td>\n",
       "      <td>44.182086</td>\n",
       "      <td>1152.301345</td>\n",
       "      <td>57.940003</td>\n",
       "      <td>13.686111</td>\n",
       "      <td>1007.760278</td>\n",
       "      <td>1.505495</td>\n",
       "      <td>0.060366</td>\n",
       "      <td>1.853836</td>\n",
       "    </tr>\n",
       "    <tr>\n",
       "      <th>std</th>\n",
       "      <td>10122.249256</td>\n",
       "      <td>1.177213</td>\n",
       "      <td>3.448752</td>\n",
       "      <td>8.800218</td>\n",
       "      <td>6.922285</td>\n",
       "      <td>72.326926</td>\n",
       "      <td>83.441738</td>\n",
       "      <td>20.975331</td>\n",
       "      <td>29.519796</td>\n",
       "      <td>1103.056282</td>\n",
       "      <td>54.316674</td>\n",
       "      <td>11.365313</td>\n",
       "      <td>10.225664</td>\n",
       "      <td>13.822099</td>\n",
       "      <td>0.752899</td>\n",
       "      <td>1.309808</td>\n",
       "    </tr>\n",
       "    <tr>\n",
       "      <th>min</th>\n",
       "      <td>1.000000</td>\n",
       "      <td>2013.000000</td>\n",
       "      <td>1.000000</td>\n",
       "      <td>1.000000</td>\n",
       "      <td>0.000000</td>\n",
       "      <td>2.000000</td>\n",
       "      <td>2.000000</td>\n",
       "      <td>0.285600</td>\n",
       "      <td>1.847700</td>\n",
       "      <td>100.000000</td>\n",
       "      <td>0.214200</td>\n",
       "      <td>-16.600000</td>\n",
       "      <td>982.400000</td>\n",
       "      <td>-35.100000</td>\n",
       "      <td>0.000000</td>\n",
       "      <td>0.000000</td>\n",
       "    </tr>\n",
       "    <tr>\n",
       "      <th>25%</th>\n",
       "      <td>8766.750000</td>\n",
       "      <td>2014.000000</td>\n",
       "      <td>4.000000</td>\n",
       "      <td>8.000000</td>\n",
       "      <td>5.750000</td>\n",
       "      <td>18.000000</td>\n",
       "      <td>34.000000</td>\n",
       "      <td>2.000000</td>\n",
       "      <td>22.000000</td>\n",
       "      <td>500.000000</td>\n",
       "      <td>15.636600</td>\n",
       "      <td>3.400000</td>\n",
       "      <td>999.300000</td>\n",
       "      <td>-10.200000</td>\n",
       "      <td>0.000000</td>\n",
       "      <td>1.000000</td>\n",
       "    </tr>\n",
       "    <tr>\n",
       "      <th>50%</th>\n",
       "      <td>17532.500000</td>\n",
       "      <td>2015.000000</td>\n",
       "      <td>7.000000</td>\n",
       "      <td>16.000000</td>\n",
       "      <td>11.500000</td>\n",
       "      <td>46.000000</td>\n",
       "      <td>72.000000</td>\n",
       "      <td>7.000000</td>\n",
       "      <td>36.000000</td>\n",
       "      <td>800.000000</td>\n",
       "      <td>46.000000</td>\n",
       "      <td>14.700000</td>\n",
       "      <td>1007.400000</td>\n",
       "      <td>1.800000</td>\n",
       "      <td>0.000000</td>\n",
       "      <td>1.500000</td>\n",
       "    </tr>\n",
       "    <tr>\n",
       "      <th>75%</th>\n",
       "      <td>26298.250000</td>\n",
       "      <td>2016.000000</td>\n",
       "      <td>10.000000</td>\n",
       "      <td>23.000000</td>\n",
       "      <td>17.250000</td>\n",
       "      <td>100.000000</td>\n",
       "      <td>131.000000</td>\n",
       "      <td>18.000000</td>\n",
       "      <td>60.358200</td>\n",
       "      <td>1400.000000</td>\n",
       "      <td>80.000000</td>\n",
       "      <td>23.300000</td>\n",
       "      <td>1016.000000</td>\n",
       "      <td>14.200000</td>\n",
       "      <td>0.000000</td>\n",
       "      <td>2.300000</td>\n",
       "    </tr>\n",
       "    <tr>\n",
       "      <th>max</th>\n",
       "      <td>35064.000000</td>\n",
       "      <td>2017.000000</td>\n",
       "      <td>12.000000</td>\n",
       "      <td>31.000000</td>\n",
       "      <td>23.000000</td>\n",
       "      <td>882.000000</td>\n",
       "      <td>999.000000</td>\n",
       "      <td>310.000000</td>\n",
       "      <td>226.000000</td>\n",
       "      <td>10000.000000</td>\n",
       "      <td>429.000000</td>\n",
       "      <td>41.400000</td>\n",
       "      <td>1036.500000</td>\n",
       "      <td>27.200000</td>\n",
       "      <td>52.100000</td>\n",
       "      <td>10.000000</td>\n",
       "    </tr>\n",
       "  </tbody>\n",
       "</table>\n",
       "</div>"
      ],
      "text/plain": [
       "                 No          year         month           day          hour  \\\n",
       "count  35064.000000  35064.000000  35064.000000  35064.000000  35064.000000   \n",
       "mean   17532.500000   2014.662560      6.522930     15.729637     11.500000   \n",
       "std    10122.249256      1.177213      3.448752      8.800218      6.922285   \n",
       "min        1.000000   2013.000000      1.000000      1.000000      0.000000   \n",
       "25%     8766.750000   2014.000000      4.000000      8.000000      5.750000   \n",
       "50%    17532.500000   2015.000000      7.000000     16.000000     11.500000   \n",
       "75%    26298.250000   2016.000000     10.000000     23.000000     17.250000   \n",
       "max    35064.000000   2017.000000     12.000000     31.000000     23.000000   \n",
       "\n",
       "              PM2.5          PM10           SO2           NO2            CO  \\\n",
       "count  34290.000000  34482.000000  34436.000000  34397.000000  33543.000000   \n",
       "mean      71.099743     94.657871     14.958906     44.182086   1152.301345   \n",
       "std       72.326926     83.441738     20.975331     29.519796   1103.056282   \n",
       "min        2.000000      2.000000      0.285600      1.847700    100.000000   \n",
       "25%       18.000000     34.000000      2.000000     22.000000    500.000000   \n",
       "50%       46.000000     72.000000      7.000000     36.000000    800.000000   \n",
       "75%      100.000000    131.000000     18.000000     60.358200   1400.000000   \n",
       "max      882.000000    999.000000    310.000000    226.000000  10000.000000   \n",
       "\n",
       "                 O3          TEMP          PRES          DEWP          RAIN  \\\n",
       "count  34460.000000  35011.000000  35014.000000  35011.000000  35013.000000   \n",
       "mean      57.940003     13.686111   1007.760278      1.505495      0.060366   \n",
       "std       54.316674     11.365313     10.225664     13.822099      0.752899   \n",
       "min        0.214200    -16.600000    982.400000    -35.100000      0.000000   \n",
       "25%       15.636600      3.400000    999.300000    -10.200000      0.000000   \n",
       "50%       46.000000     14.700000   1007.400000      1.800000      0.000000   \n",
       "75%       80.000000     23.300000   1016.000000     14.200000      0.000000   \n",
       "max      429.000000     41.400000   1036.500000     27.200000     52.100000   \n",
       "\n",
       "               WSPM  \n",
       "count  35021.000000  \n",
       "mean       1.853836  \n",
       "std        1.309808  \n",
       "min        0.000000  \n",
       "25%        1.000000  \n",
       "50%        1.500000  \n",
       "75%        2.300000  \n",
       "max       10.000000  "
      ]
     },
     "execution_count": 70,
     "metadata": {},
     "output_type": "execute_result"
    }
   ],
   "source": [
    "changping_df.describe()"
   ]
  },
  {
   "attachments": {},
   "cell_type": "markdown",
   "metadata": {},
   "source": [
    "### Cleaning Data"
   ]
  },
  {
   "cell_type": "markdown",
   "metadata": {},
   "source": []
  },
  {
   "attachments": {},
   "cell_type": "markdown",
   "metadata": {},
   "source": [
    "## Exploratory Data Analysis (EDA)"
   ]
  },
  {
   "attachments": {},
   "cell_type": "markdown",
   "metadata": {},
   "source": [
    "### Explore ..."
   ]
  },
  {
   "cell_type": "code",
   "execution_count": null,
   "metadata": {},
   "outputs": [],
   "source": []
  },
  {
   "attachments": {},
   "cell_type": "markdown",
   "metadata": {},
   "source": [
    "## Visualization & Explanatory Analysis"
   ]
  },
  {
   "attachments": {},
   "cell_type": "markdown",
   "metadata": {},
   "source": [
    "### Pertanyaan 1: "
   ]
  },
  {
   "cell_type": "code",
   "execution_count": null,
   "metadata": {},
   "outputs": [],
   "source": []
  },
  {
   "attachments": {},
   "cell_type": "markdown",
   "metadata": {},
   "source": [
    "### Pertanyaan 2: "
   ]
  },
  {
   "cell_type": "code",
   "execution_count": null,
   "metadata": {},
   "outputs": [],
   "source": []
  },
  {
   "attachments": {},
   "cell_type": "markdown",
   "metadata": {},
   "source": [
    "## Conclusion"
   ]
  },
  {
   "attachments": {},
   "cell_type": "markdown",
   "metadata": {},
   "source": [
    "- Conclution pertanyaan 1\n",
    "- conclution pertanyaan 2"
   ]
  },
  {
   "cell_type": "markdown",
   "metadata": {},
   "source": []
  }
 ],
 "metadata": {
  "kernelspec": {
   "display_name": "Python 3",
   "language": "python",
   "name": "python3"
  },
  "language_info": {
   "codemirror_mode": {
    "name": "ipython",
    "version": 3
   },
   "file_extension": ".py",
   "mimetype": "text/x-python",
   "name": "python",
   "nbconvert_exporter": "python",
   "pygments_lexer": "ipython3",
   "version": "3.11.4"
  },
  "orig_nbformat": 4,
  "vscode": {
   "interpreter": {
    "hash": "972b3bf27e332e87b5379f2791f6ef9dfc79c71018c370b0d7423235e20fe4d7"
   }
  }
 },
 "nbformat": 4,
 "nbformat_minor": 2
}
