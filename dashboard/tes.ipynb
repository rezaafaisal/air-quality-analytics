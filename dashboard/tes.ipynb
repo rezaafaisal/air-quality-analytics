{
 "cells": [
  {
   "cell_type": "code",
   "execution_count": 1,
   "metadata": {},
   "outputs": [],
   "source": [
    "import pandas as pd"
   ]
  },
  {
   "cell_type": "code",
   "execution_count": 6,
   "metadata": {},
   "outputs": [],
   "source": [
    "all_data = pd.read_csv(\"../all_data.csv\")\n",
    "all_data['datetime'] = pd.to_datetime(all_data['datetime'])"
   ]
  },
  {
   "cell_type": "code",
   "execution_count": 15,
   "metadata": {},
   "outputs": [],
   "source": [
    "def create_yearly_vehicle_df(df):\n",
    "    yearly_vehicle_df = df.resample(rule='Y', on='datetime').agg({\n",
    "        \"vehicle_pollution\": \"mean\"\n",
    "    })\n",
    "    \n",
    "    yearly_vehicle_df.index = yearly_vehicle_df.index.strftime('%Y')\n",
    "    yearly_vehicle_df.rename(columns={\n",
    "        \"vehicle_pollution\": \"vehicle_pollution_average\"\n",
    "    })\n",
    "\n",
    "    return yearly_vehicle_df"
   ]
  },
  {
   "cell_type": "code",
   "execution_count": 18,
   "metadata": {},
   "outputs": [],
   "source": [
    "def create_pollution_df(df):\n",
    "    pollution_df = df.groupby(by=['PM2.5', 'PM10', 'SO2', 'NO2', 'CO', 'O3']).agg({\n",
    "        \"PM2.5\": \"sum\",\n",
    "        \"PM10\": \"sum\",\n",
    "        \"SO2\": \"sum\",\n",
    "        \"NO2\": \"sum\",\n",
    "        \"CO\": \"sum\",\n",
    "        \"O3\": \"sum\",\n",
    "    })\n",
    "\n",
    "    pollution_df = pollution_df.mean().sort_values(ascending=True)\n",
    "\n",
    "    return pollution_df"
   ]
  },
  {
   "cell_type": "code",
   "execution_count": 35,
   "metadata": {},
   "outputs": [
    {
     "data": {
      "text/plain": [
       "0          Aotizhongxin\n",
       "1          Aotizhongxin\n",
       "2          Aotizhongxin\n",
       "3          Aotizhongxin\n",
       "4          Aotizhongxin\n",
       "              ...      \n",
       "382163    Wanshouxigong\n",
       "382164    Wanshouxigong\n",
       "382165    Wanshouxigong\n",
       "382166    Wanshouxigong\n",
       "382167    Wanshouxigong\n",
       "Name: station, Length: 382168, dtype: object"
      ]
     },
     "execution_count": 35,
     "metadata": {},
     "output_type": "execute_result"
    }
   ],
   "source": [
    "all_data.station"
   ]
  },
  {
   "cell_type": "code",
   "execution_count": 66,
   "metadata": {},
   "outputs": [],
   "source": [
    "def create_pollution_station(df):\n",
    "    pollution_station = df[['station', 'PM2.5', 'PM10', 'SO2', 'NO2', 'CO', 'O3']].groupby(by=[\"station\"])\n",
    "    \n",
    "    pollution_station = pollution_station.mean()\n",
    "    return pollution_station"
   ]
  },
  {
   "cell_type": "code",
   "execution_count": 67,
   "metadata": {},
   "outputs": [
    {
     "name": "stdout",
     "output_type": "stream",
     "text": [
      "                   PM2.5        PM10        SO2        NO2           CO  \\\n",
      "station                                                                   \n",
      "Aotizhongxin   81.863630  109.120685  17.167205  58.976332  1256.574729   \n",
      "Changping      70.312328   94.086402  15.061357  44.319035  1151.716441   \n",
      "Dingling       66.512518   84.527803  11.944167  27.267578   916.547211   \n",
      "Dongsi         84.933156  110.991914  16.994466  53.717314  1316.524392   \n",
      "Guanyuan       83.101051  108.974559  17.263085  57.698591  1265.709760   \n",
      "Gucheng        83.865653  119.085002  15.095190  55.583879  1325.509691   \n",
      "Huairou        70.285669   92.525792  12.275823  32.633827  1032.398291   \n",
      "Nongzhanguan   84.720783  109.175929  18.560198  58.213457  1327.784381   \n",
      "Shunyi         79.400725   99.380546  14.144105  44.838483  1201.778267   \n",
      "Tiantan        81.749840  105.627866  14.140742  53.213083  1297.434187   \n",
      "Wanliu         81.981459  108.765861  17.700088  64.429290  1293.450153   \n",
      "Wanshouxigong  84.238510  111.918692  17.152569  55.307181  1362.531647   \n",
      "\n",
      "                      O3  \n",
      "station                   \n",
      "Aotizhongxin   56.240938  \n",
      "Changping      57.424541  \n",
      "Dingling       69.449698  \n",
      "Dongsi         56.797482  \n",
      "Guanyuan       55.832982  \n",
      "Gucheng        58.280651  \n",
      "Huairou        59.722474  \n",
      "Nongzhanguan   58.614905  \n",
      "Shunyi         55.297919  \n",
      "Tiantan        55.297030  \n",
      "Wanliu         49.474836  \n",
      "Wanshouxigong  55.922622  \n"
     ]
    }
   ],
   "source": [
    "print(create_pollution_station(all_data))"
   ]
  },
  {
   "cell_type": "code",
   "execution_count": 19,
   "metadata": {},
   "outputs": [
    {
     "data": {
      "text/plain": [
       "SO2        15.710950\n",
       "NO2        50.816326\n",
       "O3         57.656079\n",
       "PM2.5      79.819190\n",
       "PM10      105.083074\n",
       "CO       1235.929924\n",
       "dtype: float64"
      ]
     },
     "execution_count": 19,
     "metadata": {},
     "output_type": "execute_result"
    }
   ],
   "source": [
    "create_pollution_df(all_data)"
   ]
  },
  {
   "cell_type": "code",
   "execution_count": 16,
   "metadata": {},
   "outputs": [
    {
     "data": {
      "text/html": [
       "<div>\n",
       "<style scoped>\n",
       "    .dataframe tbody tr th:only-of-type {\n",
       "        vertical-align: middle;\n",
       "    }\n",
       "\n",
       "    .dataframe tbody tr th {\n",
       "        vertical-align: top;\n",
       "    }\n",
       "\n",
       "    .dataframe thead th {\n",
       "        text-align: right;\n",
       "    }\n",
       "</style>\n",
       "<table border=\"1\" class=\"dataframe\">\n",
       "  <thead>\n",
       "    <tr style=\"text-align: right;\">\n",
       "      <th></th>\n",
       "      <th>vehicle_pollution</th>\n",
       "    </tr>\n",
       "    <tr>\n",
       "      <th>datetime</th>\n",
       "      <th></th>\n",
       "    </tr>\n",
       "  </thead>\n",
       "  <tbody>\n",
       "    <tr>\n",
       "      <th>2013</th>\n",
       "      <td>1432.596556</td>\n",
       "    </tr>\n",
       "    <tr>\n",
       "      <th>2014</th>\n",
       "      <td>1501.414796</td>\n",
       "    </tr>\n",
       "    <tr>\n",
       "      <th>2015</th>\n",
       "      <td>1494.218192</td>\n",
       "    </tr>\n",
       "    <tr>\n",
       "      <th>2016</th>\n",
       "      <td>1360.530513</td>\n",
       "    </tr>\n",
       "    <tr>\n",
       "      <th>2017</th>\n",
       "      <td>1843.330264</td>\n",
       "    </tr>\n",
       "  </tbody>\n",
       "</table>\n",
       "</div>"
      ],
      "text/plain": [
       "          vehicle_pollution\n",
       "datetime                   \n",
       "2013            1432.596556\n",
       "2014            1501.414796\n",
       "2015            1494.218192\n",
       "2016            1360.530513\n",
       "2017            1843.330264"
      ]
     },
     "execution_count": 16,
     "metadata": {},
     "output_type": "execute_result"
    }
   ],
   "source": [
    "create_yearly_vehicle_df(all_data)"
   ]
  },
  {
   "cell_type": "code",
   "execution_count": null,
   "metadata": {},
   "outputs": [],
   "source": []
  }
 ],
 "metadata": {
  "kernelspec": {
   "display_name": "lab",
   "language": "python",
   "name": "python3"
  },
  "language_info": {
   "codemirror_mode": {
    "name": "ipython",
    "version": 3
   },
   "file_extension": ".py",
   "mimetype": "text/x-python",
   "name": "python",
   "nbconvert_exporter": "python",
   "pygments_lexer": "ipython3",
   "version": "3.11.4"
  },
  "orig_nbformat": 4
 },
 "nbformat": 4,
 "nbformat_minor": 2
}
