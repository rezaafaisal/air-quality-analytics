{
 "cells": [
  {
   "cell_type": "code",
   "execution_count": 1,
   "metadata": {},
   "outputs": [],
   "source": [
    "import pandas as pd\n",
    "import numpy as np"
   ]
  },
  {
   "cell_type": "code",
   "execution_count": 71,
   "metadata": {},
   "outputs": [],
   "source": [
    "all_data = pd.read_csv(\"../all_data.csv\")\n",
    "all_data['datetime'] = pd.to_datetime(all_data['datetime'])"
   ]
  },
  {
   "cell_type": "markdown",
   "metadata": {},
   "source": [
    "main"
   ]
  },
  {
   "cell_type": "code",
   "execution_count": 66,
   "metadata": {},
   "outputs": [
    {
     "name": "stdout",
     "output_type": "stream",
     "text": [
      "['Aotizhongxin' 'Changping' 'Dingling' 'Dongsi' 'Guanyuan' 'Gucheng'\n",
      " 'Huairou' 'Nongzhanguan' 'Shunyi' 'Tiantan' 'Wanliu' 'Wanshouxigong']\n"
     ]
    }
   ],
   "source": [
    "# ambil data stasiun\n",
    "def get_station(df):\n",
    "    station = df['station'].unique()\n",
    "    return station\n",
    "\n",
    "print(get_station(all_data))"
   ]
  },
  {
   "cell_type": "code",
   "execution_count": 160,
   "metadata": {},
   "outputs": [
    {
     "name": "stdout",
     "output_type": "stream",
     "text": [
      "PRES    1007.21\n",
      "dtype: float64\n"
     ]
    }
   ],
   "source": [
    "# ambil rata-rata polusi kendaraan\n",
    "def average_vehicle(df, year, station):\n",
    "    new_df = df[(df['year'] == year) & (df['station'] == station)]\n",
    "    average = new_df.agg({\n",
    "        'vehicle_pollution': 'mean'\n",
    "    })\n",
    "    return round(average, 2)\n",
    "\n",
    "# rata rata polusi industri\n",
    "def average_industry(df, year, station):\n",
    "    new_df = df[(df['year'] == year) & (df['station'] == station)]\n",
    "    average = new_df.agg({\n",
    "        'industrial_pollution': 'mean'\n",
    "    })\n",
    "    return round(average, 2)\n",
    "\n",
    "# rata rata temperatur\n",
    "def average_temp(df, year, station):\n",
    "    new_df = df[(df['year'] == year) & (df['station'] == station)]\n",
    "    average = new_df.agg({\n",
    "        'TEMP': 'mean'\n",
    "    })\n",
    "    return round(average, 2)\n",
    "\n",
    "# rata rata tekana udata\n",
    "def average_press(df, year, station):\n",
    "    new_df = df[(df['year'] == year) & (df['station'] == station)]\n",
    "    average = new_df.agg({\n",
    "        'PRES': 'mean'\n",
    "    })\n",
    "    return round(average, 2)\n",
    "\n",
    "print(average_press(all_data, 2013, 'Wanshouxigong'))"
   ]
  },
  {
   "cell_type": "code",
   "execution_count": 185,
   "metadata": {},
   "outputs": [
    {
     "name": "stdout",
     "output_type": "stream",
     "text": [
      "  pollution  value\n",
      "0     PM2.5    324\n",
      "1      PM10    343\n",
      "2       SO2    445\n",
      "3       NO2    987\n",
      "4        CO    264\n",
      "5        O3    121\n"
     ]
    }
   ],
   "source": [
    "df = pd.DataFrame({\n",
    "    'pollution': ['PM2.5','PM10', 'SO2', 'NO2', 'CO', 'O3'],\n",
    "    'value': [324, 343, 445, 987, 264, 121]})\n",
    "\n",
    "print(df)"
   ]
  },
  {
   "cell_type": "code",
   "execution_count": 116,
   "metadata": {},
   "outputs": [
    {
     "name": "stdout",
     "output_type": "stream",
     "text": [
      "           vehicle_pollution\n",
      "January              2573.72\n",
      "February             2678.92\n",
      "March                1790.73\n",
      "April                1357.27\n",
      "May                  1188.64\n",
      "June                 1171.64\n",
      "July                 1131.77\n",
      "August               1233.97\n",
      "September            1408.34\n",
      "October              1780.16\n",
      "November             2122.28\n",
      "December             2092.17\n"
     ]
    }
   ],
   "source": [
    "# ambil rata-rata polusi kendaraan pertahun\n",
    "def get_average_vehicle_by_year(df, year, station):\n",
    "    new_df = df[(df['year'] == year) & (df['station'] == station)]\n",
    "    average_vehicle = new_df.groupby(by=['month']).agg({\n",
    "        'vehicle_pollution': 'mean'\n",
    "    })  \n",
    "    average_vehicle.index = [number_to_month(month) for month in average_vehicle.index]\n",
    "    return round(average_vehicle, 2)\n",
    "\n",
    "print(get_average_vehicle_by_year(all_data, 2014, 'Wanshouxigong'))"
   ]
  },
  {
   "cell_type": "code",
   "execution_count": 119,
   "metadata": {},
   "outputs": [
    {
     "name": "stdout",
     "output_type": "stream",
     "text": [
      "       industrial_pollution\n",
      "month                      \n",
      "3                     92.69\n",
      "4                     72.62\n",
      "5                     97.04\n",
      "6                     88.49\n",
      "7                     98.65\n",
      "8                     95.15\n",
      "9                     61.57\n",
      "10                    47.10\n",
      "11                    47.50\n",
      "12                    57.98\n"
     ]
    }
   ],
   "source": [
    "# ambil rata-rata polusi industri\n",
    "def get_average_industry_by_year(df, year, station):\n",
    "    new_df = df[(df['year'] == year) & (df['station'] == station)]\n",
    "    average_pollution = new_df.groupby(by='month').agg({\n",
    "        'industrial_pollution': 'mean'\n",
    "    })\n",
    "    return round(average_pollution, 2)\n",
    "\n",
    "print(get_average_industry_by_year(all_data, 2013, 'Wanshouxigong'))"
   ]
  },
  {
   "cell_type": "code",
   "execution_count": 27,
   "metadata": {},
   "outputs": [
    {
     "name": "stdout",
     "output_type": "stream",
     "text": [
      "[2013 2014 2015 2016 2017]\n"
     ]
    }
   ],
   "source": [
    "# ambil label tahun\n",
    "def get_year(df):\n",
    "    years = df['year'].unique()\n",
    "    return years\n",
    "\n",
    "print(get_year(all_data))"
   ]
  },
  {
   "cell_type": "code",
   "execution_count": 63,
   "metadata": {},
   "outputs": [
    {
     "data": {
      "text/plain": [
       "['January',\n",
       " 'February',\n",
       " 'March',\n",
       " 'April',\n",
       " 'May',\n",
       " 'June',\n",
       " 'July',\n",
       " 'August',\n",
       " 'September',\n",
       " 'October',\n",
       " 'November',\n",
       " 'December']"
      ]
     },
     "execution_count": 63,
     "metadata": {},
     "output_type": "execute_result"
    }
   ],
   "source": [
    "# ambil data bulan dari df\n",
    "def get_month(df, year):\n",
    "    years_df = df[df['year'] == year]\n",
    "    months = sorted(df['month'].unique())\n",
    "    months = [number_to_month(month) for month in months]\n",
    "    return months\n",
    "\n",
    "get_month(all_data, 201)"
   ]
  },
  {
   "cell_type": "code",
   "execution_count": 47,
   "metadata": {},
   "outputs": [],
   "source": [
    "# convert month name function\n",
    "def number_to_month(month_number):\n",
    "    month_names = ['January', 'February', 'March', 'April', 'May', 'June', 'July', 'August', 'September', 'October', 'November', 'December']\n",
    "    return month_names[month_number - 1]"
   ]
  }
 ],
 "metadata": {
  "kernelspec": {
   "display_name": "lab",
   "language": "python",
   "name": "python3"
  },
  "language_info": {
   "codemirror_mode": {
    "name": "ipython",
    "version": 3
   },
   "file_extension": ".py",
   "mimetype": "text/x-python",
   "name": "python",
   "nbconvert_exporter": "python",
   "pygments_lexer": "ipython3",
   "version": "3.11.4"
  },
  "orig_nbformat": 4
 },
 "nbformat": 4,
 "nbformat_minor": 2
}
