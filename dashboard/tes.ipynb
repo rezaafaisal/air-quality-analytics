{
 "cells": [
  {
   "cell_type": "code",
   "execution_count": 2,
   "metadata": {},
   "outputs": [],
   "source": [
    "import pandas as pd\n",
    "import numpy as np"
   ]
  },
  {
   "cell_type": "code",
   "execution_count": 3,
   "metadata": {},
   "outputs": [],
   "source": [
    "all_data = pd.read_csv(\"../all_data.csv\")\n",
    "all_data['datetime'] = pd.to_datetime(all_data['datetime'])"
   ]
  },
  {
   "cell_type": "markdown",
   "metadata": {},
   "source": [
    "main"
   ]
  },
  {
   "cell_type": "code",
   "execution_count": 66,
   "metadata": {},
   "outputs": [
    {
     "name": "stdout",
     "output_type": "stream",
     "text": [
      "['Aotizhongxin' 'Changping' 'Dingling' 'Dongsi' 'Guanyuan' 'Gucheng'\n",
      " 'Huairou' 'Nongzhanguan' 'Shunyi' 'Tiantan' 'Wanliu' 'Wanshouxigong']\n"
     ]
    }
   ],
   "source": [
    "# ambil data stasiun\n",
    "def get_station(df):\n",
    "    station = df['station'].unique()\n",
    "    return station\n",
    "\n",
    "print(get_station(all_data))"
   ]
  },
  {
   "cell_type": "code",
   "execution_count": 160,
   "metadata": {},
   "outputs": [
    {
     "name": "stdout",
     "output_type": "stream",
     "text": [
      "PRES    1007.21\n",
      "dtype: float64\n"
     ]
    }
   ],
   "source": [
    "# ambil rata-rata polusi kendaraan\n",
    "def average_vehicle(df, year, station):\n",
    "    new_df = df[(df['year'] == year) & (df['station'] == station)]\n",
    "    average = new_df.agg({\n",
    "        'vehicle_pollution': 'mean'\n",
    "    })\n",
    "    return round(average, 2)\n",
    "\n",
    "# rata rata polusi industri\n",
    "def average_industry(df, year, station):\n",
    "    new_df = df[(df['year'] == year) & (df['station'] == station)]\n",
    "    average = new_df.agg({\n",
    "        'industrial_pollution': 'mean'\n",
    "    })\n",
    "    return round(average, 2)\n",
    "\n",
    "# rata rata temperatur\n",
    "def dahboard_bar(df, year, station):\n",
    "    new_df = df[(df['year'] == year) & (df['station'] == station)]\n",
    "    new_df = new_df.rename(columns={\"TEMP\": \"temp\", \"WSPM\": \"wind\"})\n",
    "    average = new_df.agg({\n",
    "        'temp': 'mean',\n",
    "        'wind': 'mean'\n",
    "    })\n",
    "    return round(average, 2)\n",
    "\n",
    "print(average_press(all_data, 2013, 'Wanshouxigong'))"
   ]
  },
  {
   "cell_type": "code",
   "execution_count": 116,
   "metadata": {},
   "outputs": [
    {
     "name": "stdout",
     "output_type": "stream",
     "text": [
      "           vehicle_pollution\n",
      "January              2573.72\n",
      "February             2678.92\n",
      "March                1790.73\n",
      "April                1357.27\n",
      "May                  1188.64\n",
      "June                 1171.64\n",
      "July                 1131.77\n",
      "August               1233.97\n",
      "September            1408.34\n",
      "October              1780.16\n",
      "November             2122.28\n",
      "December             2092.17\n"
     ]
    }
   ],
   "source": [
    "# ambil rata-rata polusi kendaraan pertahun\n",
    "def get_average_vehicle_by_year(df, year, station):\n",
    "    new_df = df[(df['year'] == year) & (df['station'] == station)]\n",
    "    average_vehicle = new_df.groupby(by=['month']).agg({\n",
    "        'vehicle_pollution': 'mean'\n",
    "    })  \n",
    "    average_vehicle.index = [number_to_month(month) for month in average_vehicle.index]\n",
    "    return round(average_vehicle, 2)\n",
    "\n",
    "print(get_average_vehicle_by_year(all_data, 2014, 'Wanshouxigong'))"
   ]
  },
  {
   "cell_type": "code",
   "execution_count": 54,
   "metadata": {},
   "outputs": [
    {
     "name": "stdout",
     "output_type": "stream",
     "text": [
      "           industrial_pollution\n",
      "March                     92.69\n",
      "April                     72.62\n",
      "May                       97.04\n",
      "June                      88.49\n",
      "July                      98.65\n",
      "August                    95.15\n",
      "September                 61.57\n",
      "October                   47.10\n",
      "November                  47.50\n",
      "December                  57.98\n"
     ]
    }
   ],
   "source": [
    "# ambil rata-rata polusi industri\n",
    "def get_average_industry_by_year(df, year, station):\n",
    "    new_df = df[(df['year'] == year) & (df['station'] == station)]\n",
    "    average_pollution = new_df.groupby(by='month').agg({\n",
    "        'industrial_pollution': 'mean'\n",
    "    })\n",
    "    average_pollution.index = [number_to_month(month) for month in average_pollution.index]\n",
    "    return round(average_pollution, 2)\n",
    "\n",
    "print(get_average_industry_by_year(all_data, 2013, 'Wanshouxigong'))"
   ]
  },
  {
   "cell_type": "code",
   "execution_count": 22,
   "metadata": {},
   "outputs": [
    {
     "name": "stdout",
     "output_type": "stream",
     "text": [
      "0.06101588890278994\n"
     ]
    }
   ],
   "source": [
    "# yearly pollutan\n",
    "def yearly_pollution(df, pollutan, station, year):\n",
    "    new_df = df[(df['station'] == station) & (df['year'] == year)]\n",
    "    pollutan = new_df.groupby(by='month').agg({\n",
    "        pollutan: 'mean'\n",
    "    })\n",
    "    pollutan.index = [number_to_month(month) for month in pollutan.index]\n",
    "    return round(pollutan, 2)\n",
    "\n",
    "\n",
    "def yearly_bar(df, station, year):\n",
    "    new_df = df[(df['station'] == station) & (df['year'] == year)]\n",
    "    new_df = new_df.rename(columns={\"TEMP\": \"temp\", \"RAIN\": \"rain\", \"WSPM\": \"wind\"})\n",
    "    info = new_df.agg({\n",
    "        'temp': 'mean',\n",
    "        'rain': 'mean',\n",
    "        'wind': 'mean'\n",
    "    })\n",
    "    return info\n",
    "\n",
    "print(yearly_bar(all_data,'Aotizhongxin', 2014))"
   ]
  },
  {
   "cell_type": "code",
   "execution_count": 43,
   "metadata": {},
   "outputs": [
    {
     "name": "stdout",
     "output_type": "stream",
     "text": [
      "(8.3, 0.01, 2.2)\n"
     ]
    }
   ],
   "source": [
    "# monthly pollutan\n",
    "def monthly_pollutan(df, pollutan, station, year, month):\n",
    "    # convert name to number\n",
    "    month = month_to_number(month)\n",
    "    new_df = df[(df['station'] == station) & (df['year'] == year) & (df['month'] == month)]\n",
    "    pollutan = new_df.groupby(by='day').agg({\n",
    "        pollutan: 'mean'\n",
    "    })\n",
    "    return round(pollutan, 2)\n",
    "\n",
    "def monthly_bar(df, station, year, month):\n",
    "    # convert name to number\n",
    "    month = month_to_number(month)\n",
    "    \n",
    "    new_df = df[(df['station'] == station) & (df['year'] == year) & (df['month'] == month)]\n",
    "    new_df = new_df.rename(columns={\"TEMP\": \"temp\", \"RAIN\": \"rain\", \"WSPM\": \"wind\"})\n",
    "    info = new_df.agg({\n",
    "        'temp': 'mean',\n",
    "        'rain': 'mean',\n",
    "        'wind': 'mean'\n",
    "    })\n",
    "    return round(info.temp, 1), round(info.rain, 3), round(info.wind, 1)\n",
    "print(monthly_bar(all_data, 'Aotizhongxin', 2015, 'March'))"
   ]
  },
  {
   "cell_type": "code",
   "execution_count": 27,
   "metadata": {},
   "outputs": [
    {
     "name": "stdout",
     "output_type": "stream",
     "text": [
      "[2013 2014 2015 2016 2017]\n"
     ]
    }
   ],
   "source": [
    "# ambil label tahun\n",
    "def get_year(df):\n",
    "    years = df['year'].unique()\n",
    "    return years\n",
    "\n",
    "print(get_year(all_data))"
   ]
  },
  {
   "cell_type": "code",
   "execution_count": 53,
   "metadata": {},
   "outputs": [
    {
     "data": {
      "text/plain": [
       "['January', 'February']"
      ]
     },
     "execution_count": 53,
     "metadata": {},
     "output_type": "execute_result"
    }
   ],
   "source": [
    "# ambil data bulan dari df\n",
    "def get_month(df, year):\n",
    "    years_df = df[df['year'] == year]\n",
    "    months = sorted(years_df['month'].unique())\n",
    "    months = [number_to_month(month) for month in months]\n",
    "    return months\n",
    "\n",
    "get_month(all_data, 2017)"
   ]
  },
  {
   "cell_type": "code",
   "execution_count": 10,
   "metadata": {},
   "outputs": [],
   "source": [
    "# convert month name function\n",
    "def number_to_month(month_number):\n",
    "    month_numbers = [1, 2, 3, 4, 5, 6, 7, 8, 9, 10, 11, 12]\n",
    "    month_names = ['January', 'February', 'March', 'April', 'May', 'June', 'July', 'August', 'September', 'October', 'November', 'December']\n",
    "    return month_names[month_number - 1]"
   ]
  },
  {
   "cell_type": "code",
   "execution_count": 30,
   "metadata": {},
   "outputs": [
    {
     "name": "stdout",
     "output_type": "stream",
     "text": [
      "2\n"
     ]
    }
   ],
   "source": [
    "def month_to_number(month_name):\n",
    "    month_numbers = [1, 2, 3, 4, 5, 6, 7, 8, 9, 10, 11, 12]\n",
    "    month_names = ['January', 'February', 'March', 'April', 'May', 'June', 'July', 'August', 'September', 'October', 'November', 'December']\n",
    "    return month_numbers[month_names.index(month_name)]\n",
    "\n",
    "print(month_to_number('February'))"
   ]
  },
  {
   "cell_type": "code",
   "execution_count": null,
   "metadata": {},
   "outputs": [],
   "source": []
  }
 ],
 "metadata": {
  "kernelspec": {
   "display_name": "lab",
   "language": "python",
   "name": "python3"
  },
  "language_info": {
   "codemirror_mode": {
    "name": "ipython",
    "version": 3
   },
   "file_extension": ".py",
   "mimetype": "text/x-python",
   "name": "python",
   "nbconvert_exporter": "python",
   "pygments_lexer": "ipython3",
   "version": "3.11.4"
  },
  "orig_nbformat": 4
 },
 "nbformat": 4,
 "nbformat_minor": 2
}
